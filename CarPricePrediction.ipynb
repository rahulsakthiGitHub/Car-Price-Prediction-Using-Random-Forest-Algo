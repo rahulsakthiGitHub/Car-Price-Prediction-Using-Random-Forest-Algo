{
  "nbformat": 4,
  "nbformat_minor": 0,
  "metadata": {
    "colab": {
      "provenance": []
    },
    "kernelspec": {
      "name": "python3",
      "display_name": "Python 3"
    },
    "language_info": {
      "name": "python"
    }
  },
  "cells": [
    {
      "cell_type": "markdown",
      "source": [
        "CAR PRICE PREDICTION USING RANDOM FOREST\n"
      ],
      "metadata": {
        "id": "YAu0NW-FFF2p"
      }
    },
    {
      "cell_type": "code",
      "source": [
        "import pandas as pd"
      ],
      "metadata": {
        "id": "k2uZ-s_3FPf-"
      },
      "execution_count": 1,
      "outputs": []
    },
    {
      "cell_type": "markdown",
      "source": [
        "Upload Dataset"
      ],
      "metadata": {
        "id": "U-LE9fAsGTz_"
      }
    },
    {
      "cell_type": "code",
      "source": [
        "from google.colab import files\n",
        "uploaded=files.upload()"
      ],
      "metadata": {
        "colab": {
          "base_uri": "https://localhost:8080/",
          "height": 72
        },
        "id": "m7M0kMpMFh5f",
        "outputId": "65664473-725a-4d8b-d543-5c6349758124"
      },
      "execution_count": 2,
      "outputs": [
        {
          "output_type": "display_data",
          "data": {
            "text/plain": [
              "<IPython.core.display.HTML object>"
            ],
            "text/html": [
              "\n",
              "     <input type=\"file\" id=\"files-e4dad81c-5bc1-4a4f-95b9-31c8f19a14ed\" name=\"files[]\" multiple disabled\n",
              "        style=\"border:none\" />\n",
              "     <output id=\"result-e4dad81c-5bc1-4a4f-95b9-31c8f19a14ed\">\n",
              "      Upload widget is only available when the cell has been executed in the\n",
              "      current browser session. Please rerun this cell to enable.\n",
              "      </output>\n",
              "      <script>// Copyright 2017 Google LLC\n",
              "//\n",
              "// Licensed under the Apache License, Version 2.0 (the \"License\");\n",
              "// you may not use this file except in compliance with the License.\n",
              "// You may obtain a copy of the License at\n",
              "//\n",
              "//      http://www.apache.org/licenses/LICENSE-2.0\n",
              "//\n",
              "// Unless required by applicable law or agreed to in writing, software\n",
              "// distributed under the License is distributed on an \"AS IS\" BASIS,\n",
              "// WITHOUT WARRANTIES OR CONDITIONS OF ANY KIND, either express or implied.\n",
              "// See the License for the specific language governing permissions and\n",
              "// limitations under the License.\n",
              "\n",
              "/**\n",
              " * @fileoverview Helpers for google.colab Python module.\n",
              " */\n",
              "(function(scope) {\n",
              "function span(text, styleAttributes = {}) {\n",
              "  const element = document.createElement('span');\n",
              "  element.textContent = text;\n",
              "  for (const key of Object.keys(styleAttributes)) {\n",
              "    element.style[key] = styleAttributes[key];\n",
              "  }\n",
              "  return element;\n",
              "}\n",
              "\n",
              "// Max number of bytes which will be uploaded at a time.\n",
              "const MAX_PAYLOAD_SIZE = 100 * 1024;\n",
              "\n",
              "function _uploadFiles(inputId, outputId) {\n",
              "  const steps = uploadFilesStep(inputId, outputId);\n",
              "  const outputElement = document.getElementById(outputId);\n",
              "  // Cache steps on the outputElement to make it available for the next call\n",
              "  // to uploadFilesContinue from Python.\n",
              "  outputElement.steps = steps;\n",
              "\n",
              "  return _uploadFilesContinue(outputId);\n",
              "}\n",
              "\n",
              "// This is roughly an async generator (not supported in the browser yet),\n",
              "// where there are multiple asynchronous steps and the Python side is going\n",
              "// to poll for completion of each step.\n",
              "// This uses a Promise to block the python side on completion of each step,\n",
              "// then passes the result of the previous step as the input to the next step.\n",
              "function _uploadFilesContinue(outputId) {\n",
              "  const outputElement = document.getElementById(outputId);\n",
              "  const steps = outputElement.steps;\n",
              "\n",
              "  const next = steps.next(outputElement.lastPromiseValue);\n",
              "  return Promise.resolve(next.value.promise).then((value) => {\n",
              "    // Cache the last promise value to make it available to the next\n",
              "    // step of the generator.\n",
              "    outputElement.lastPromiseValue = value;\n",
              "    return next.value.response;\n",
              "  });\n",
              "}\n",
              "\n",
              "/**\n",
              " * Generator function which is called between each async step of the upload\n",
              " * process.\n",
              " * @param {string} inputId Element ID of the input file picker element.\n",
              " * @param {string} outputId Element ID of the output display.\n",
              " * @return {!Iterable<!Object>} Iterable of next steps.\n",
              " */\n",
              "function* uploadFilesStep(inputId, outputId) {\n",
              "  const inputElement = document.getElementById(inputId);\n",
              "  inputElement.disabled = false;\n",
              "\n",
              "  const outputElement = document.getElementById(outputId);\n",
              "  outputElement.innerHTML = '';\n",
              "\n",
              "  const pickedPromise = new Promise((resolve) => {\n",
              "    inputElement.addEventListener('change', (e) => {\n",
              "      resolve(e.target.files);\n",
              "    });\n",
              "  });\n",
              "\n",
              "  const cancel = document.createElement('button');\n",
              "  inputElement.parentElement.appendChild(cancel);\n",
              "  cancel.textContent = 'Cancel upload';\n",
              "  const cancelPromise = new Promise((resolve) => {\n",
              "    cancel.onclick = () => {\n",
              "      resolve(null);\n",
              "    };\n",
              "  });\n",
              "\n",
              "  // Wait for the user to pick the files.\n",
              "  const files = yield {\n",
              "    promise: Promise.race([pickedPromise, cancelPromise]),\n",
              "    response: {\n",
              "      action: 'starting',\n",
              "    }\n",
              "  };\n",
              "\n",
              "  cancel.remove();\n",
              "\n",
              "  // Disable the input element since further picks are not allowed.\n",
              "  inputElement.disabled = true;\n",
              "\n",
              "  if (!files) {\n",
              "    return {\n",
              "      response: {\n",
              "        action: 'complete',\n",
              "      }\n",
              "    };\n",
              "  }\n",
              "\n",
              "  for (const file of files) {\n",
              "    const li = document.createElement('li');\n",
              "    li.append(span(file.name, {fontWeight: 'bold'}));\n",
              "    li.append(span(\n",
              "        `(${file.type || 'n/a'}) - ${file.size} bytes, ` +\n",
              "        `last modified: ${\n",
              "            file.lastModifiedDate ? file.lastModifiedDate.toLocaleDateString() :\n",
              "                                    'n/a'} - `));\n",
              "    const percent = span('0% done');\n",
              "    li.appendChild(percent);\n",
              "\n",
              "    outputElement.appendChild(li);\n",
              "\n",
              "    const fileDataPromise = new Promise((resolve) => {\n",
              "      const reader = new FileReader();\n",
              "      reader.onload = (e) => {\n",
              "        resolve(e.target.result);\n",
              "      };\n",
              "      reader.readAsArrayBuffer(file);\n",
              "    });\n",
              "    // Wait for the data to be ready.\n",
              "    let fileData = yield {\n",
              "      promise: fileDataPromise,\n",
              "      response: {\n",
              "        action: 'continue',\n",
              "      }\n",
              "    };\n",
              "\n",
              "    // Use a chunked sending to avoid message size limits. See b/62115660.\n",
              "    let position = 0;\n",
              "    do {\n",
              "      const length = Math.min(fileData.byteLength - position, MAX_PAYLOAD_SIZE);\n",
              "      const chunk = new Uint8Array(fileData, position, length);\n",
              "      position += length;\n",
              "\n",
              "      const base64 = btoa(String.fromCharCode.apply(null, chunk));\n",
              "      yield {\n",
              "        response: {\n",
              "          action: 'append',\n",
              "          file: file.name,\n",
              "          data: base64,\n",
              "        },\n",
              "      };\n",
              "\n",
              "      let percentDone = fileData.byteLength === 0 ?\n",
              "          100 :\n",
              "          Math.round((position / fileData.byteLength) * 100);\n",
              "      percent.textContent = `${percentDone}% done`;\n",
              "\n",
              "    } while (position < fileData.byteLength);\n",
              "  }\n",
              "\n",
              "  // All done.\n",
              "  yield {\n",
              "    response: {\n",
              "      action: 'complete',\n",
              "    }\n",
              "  };\n",
              "}\n",
              "\n",
              "scope.google = scope.google || {};\n",
              "scope.google.colab = scope.google.colab || {};\n",
              "scope.google.colab._files = {\n",
              "  _uploadFiles,\n",
              "  _uploadFilesContinue,\n",
              "};\n",
              "})(self);\n",
              "</script> "
            ]
          },
          "metadata": {}
        },
        {
          "output_type": "stream",
          "name": "stdout",
          "text": [
            "Saving cardataset.csv to cardataset.csv\n"
          ]
        }
      ]
    },
    {
      "cell_type": "markdown",
      "source": [
        "Load Dataset"
      ],
      "metadata": {
        "id": "YC7Rw1kMGZUP"
      }
    },
    {
      "cell_type": "code",
      "source": [
        "dataset=pd.read_csv('cardataset.csv')\n",
        "dataset=dataset.drop(['car_ID'],axis=1)"
      ],
      "metadata": {
        "id": "45uqWC9GF7GY"
      },
      "execution_count": 3,
      "outputs": []
    },
    {
      "cell_type": "markdown",
      "source": [
        "Summarize Dataset"
      ],
      "metadata": {
        "id": "I7Xtkw9TGhkk"
      }
    },
    {
      "cell_type": "code",
      "source": [
        "print(dataset.shape)\n",
        "print(dataset.head(5))"
      ],
      "metadata": {
        "colab": {
          "base_uri": "https://localhost:8080/"
        },
        "id": "JceIQURKGdbM",
        "outputId": "05dd7db3-92d1-4862-d74e-3280464f2ac9"
      },
      "execution_count": 5,
      "outputs": [
        {
          "output_type": "stream",
          "name": "stdout",
          "text": [
            "(205, 25)\n",
            "   symboling                   CarName fueltype aspiration doornumber  \\\n",
            "0          3        alfa-romero giulia      gas        std        two   \n",
            "1          3       alfa-romero stelvio      gas        std        two   \n",
            "2          1  alfa-romero Quadrifoglio      gas        std        two   \n",
            "3          2               audi 100 ls      gas        std       four   \n",
            "4          2                audi 100ls      gas        std       four   \n",
            "\n",
            "       carbody drivewheel enginelocation  wheelbase  carlength  ...  \\\n",
            "0  convertible        rwd          front       88.6      168.8  ...   \n",
            "1  convertible        rwd          front       88.6      168.8  ...   \n",
            "2    hatchback        rwd          front       94.5      171.2  ...   \n",
            "3        sedan        fwd          front       99.8      176.6  ...   \n",
            "4        sedan        4wd          front       99.4      176.6  ...   \n",
            "\n",
            "   enginesize  fuelsystem  boreratio stroke compressionratio  horsepower  \\\n",
            "0         130        mpfi       3.47   2.68              9.0         111   \n",
            "1         130        mpfi       3.47   2.68              9.0         111   \n",
            "2         152        mpfi       2.68   3.47              9.0         154   \n",
            "3         109        mpfi       3.19   3.40             10.0         102   \n",
            "4         136        mpfi       3.19   3.40              8.0         115   \n",
            "\n",
            "  peakrpm  citympg  highwaympg    price  \n",
            "0    5000       21          27  13495.0  \n",
            "1    5000       21          27  16500.0  \n",
            "2    5000       19          26  16500.0  \n",
            "3    5500       24          30  13950.0  \n",
            "4    5500       18          22  17450.0  \n",
            "\n",
            "[5 rows x 25 columns]\n"
          ]
        }
      ]
    },
    {
      "cell_type": "markdown",
      "source": [
        "Splitting Dataset for Test and Train"
      ],
      "metadata": {
        "id": "qQYK0F-_G_0M"
      }
    },
    {
      "cell_type": "code",
      "source": [
        "Xdata=dataset.drop('price',axis='columns')\n",
        "numericalCols=Xdata.select_dtypes(exclude=['object']).columns\n",
        "X=Xdata[numericalCols]\n",
        "\n",
        "Y=dataset['price']\n",
        "Y"
      ],
      "metadata": {
        "colab": {
          "base_uri": "https://localhost:8080/"
        },
        "id": "K8lFDe-XG5PP",
        "outputId": "3b18a911-ce63-4d9e-d9e3-243937bbda87"
      },
      "execution_count": 8,
      "outputs": [
        {
          "output_type": "execute_result",
          "data": {
            "text/plain": [
              "0      13495.0\n",
              "1      16500.0\n",
              "2      16500.0\n",
              "3      13950.0\n",
              "4      17450.0\n",
              "        ...   \n",
              "200    16845.0\n",
              "201    19045.0\n",
              "202    21485.0\n",
              "203    22470.0\n",
              "204    22625.0\n",
              "Name: price, Length: 205, dtype: float64"
            ]
          },
          "metadata": {},
          "execution_count": 8
        }
      ]
    },
    {
      "cell_type": "markdown",
      "source": [
        "Scale the independent variable"
      ],
      "metadata": {
        "id": "x8FRs54YIM8v"
      }
    },
    {
      "cell_type": "code",
      "source": [
        "from sklearn.preprocessing import scale\n",
        "cols=X.columns\n",
        "X=pd.DataFrame(scale(X))\n",
        "X.columns=cols\n",
        "X"
      ],
      "metadata": {
        "colab": {
          "base_uri": "https://localhost:8080/",
          "height": 487
        },
        "id": "WaBRJYLGIMcg",
        "outputId": "b0f0e103-6973-4e3d-e9c7-5e53dde11ee4"
      },
      "execution_count": 9,
      "outputs": [
        {
          "output_type": "execute_result",
          "data": {
            "text/plain": [
              "     symboling  wheelbase  carlength  carwidth  carheight  curbweight  \\\n",
              "0     1.743470  -1.690772  -0.426521 -0.844782  -2.020417   -0.014566   \n",
              "1     1.743470  -1.690772  -0.426521 -0.844782  -2.020417   -0.014566   \n",
              "2     0.133509  -0.708596  -0.231513 -0.190566  -0.543527    0.514882   \n",
              "3     0.938490   0.173698   0.207256  0.136542   0.235942   -0.420797   \n",
              "4     0.938490   0.107110   0.207256  0.230001   0.235942    0.516807   \n",
              "..         ...        ...        ...       ...        ...         ...   \n",
              "200  -1.476452   1.721873   1.198549  1.398245   0.728239    0.763241   \n",
              "201  -1.476452   1.721873   1.198549  1.351515   0.728239    0.949992   \n",
              "202  -1.476452   1.721873   1.198549  1.398245   0.728239    0.878757   \n",
              "203  -1.476452   1.721873   1.198549  1.398245   0.728239    1.273437   \n",
              "204  -1.476452   1.721873   1.198549  1.398245   0.728239    0.975021   \n",
              "\n",
              "     enginesize  boreratio    stroke  compressionratio  horsepower   peakrpm  \\\n",
              "0      0.074449   0.519071 -1.839377         -0.288349    0.174483 -0.262960   \n",
              "1      0.074449   0.519071 -1.839377         -0.288349    0.174483 -0.262960   \n",
              "2      0.604046  -2.404880  0.685946         -0.288349    1.264536 -0.262960   \n",
              "3     -0.431076  -0.517266  0.462183         -0.035973   -0.053668  0.787855   \n",
              "4      0.218885  -0.517266  0.462183         -0.540725    0.275883  0.787855   \n",
              "..          ...        ...       ...               ...         ...       ...   \n",
              "200    0.339248   1.666445 -0.336970         -0.162161    0.250533  0.577692   \n",
              "201    0.339248   1.666445 -0.336970         -0.364062    1.416637  0.367529   \n",
              "202    1.109571   0.926204 -1.232021         -0.338824    0.757535  0.787855   \n",
              "203    0.435538  -1.183483  0.462183          3.244916    0.047732 -0.683286   \n",
              "204    0.339248   1.666445 -0.336970         -0.162161    0.250533  0.577692   \n",
              "\n",
              "      citympg  highwaympg  \n",
              "0   -0.646553   -0.546059  \n",
              "1   -0.646553   -0.546059  \n",
              "2   -0.953012   -0.691627  \n",
              "3   -0.186865   -0.109354  \n",
              "4   -1.106241   -1.273900  \n",
              "..        ...         ...  \n",
              "200 -0.340094   -0.400490  \n",
              "201 -0.953012   -0.837195  \n",
              "202 -1.106241   -1.128332  \n",
              "203  0.119594   -0.546059  \n",
              "204 -0.953012   -0.837195  \n",
              "\n",
              "[205 rows x 14 columns]"
            ],
            "text/html": [
              "\n",
              "  <div id=\"df-39e804a6-5043-4aca-b9ab-3bbf7a011a2b\">\n",
              "    <div class=\"colab-df-container\">\n",
              "      <div>\n",
              "<style scoped>\n",
              "    .dataframe tbody tr th:only-of-type {\n",
              "        vertical-align: middle;\n",
              "    }\n",
              "\n",
              "    .dataframe tbody tr th {\n",
              "        vertical-align: top;\n",
              "    }\n",
              "\n",
              "    .dataframe thead th {\n",
              "        text-align: right;\n",
              "    }\n",
              "</style>\n",
              "<table border=\"1\" class=\"dataframe\">\n",
              "  <thead>\n",
              "    <tr style=\"text-align: right;\">\n",
              "      <th></th>\n",
              "      <th>symboling</th>\n",
              "      <th>wheelbase</th>\n",
              "      <th>carlength</th>\n",
              "      <th>carwidth</th>\n",
              "      <th>carheight</th>\n",
              "      <th>curbweight</th>\n",
              "      <th>enginesize</th>\n",
              "      <th>boreratio</th>\n",
              "      <th>stroke</th>\n",
              "      <th>compressionratio</th>\n",
              "      <th>horsepower</th>\n",
              "      <th>peakrpm</th>\n",
              "      <th>citympg</th>\n",
              "      <th>highwaympg</th>\n",
              "    </tr>\n",
              "  </thead>\n",
              "  <tbody>\n",
              "    <tr>\n",
              "      <th>0</th>\n",
              "      <td>1.743470</td>\n",
              "      <td>-1.690772</td>\n",
              "      <td>-0.426521</td>\n",
              "      <td>-0.844782</td>\n",
              "      <td>-2.020417</td>\n",
              "      <td>-0.014566</td>\n",
              "      <td>0.074449</td>\n",
              "      <td>0.519071</td>\n",
              "      <td>-1.839377</td>\n",
              "      <td>-0.288349</td>\n",
              "      <td>0.174483</td>\n",
              "      <td>-0.262960</td>\n",
              "      <td>-0.646553</td>\n",
              "      <td>-0.546059</td>\n",
              "    </tr>\n",
              "    <tr>\n",
              "      <th>1</th>\n",
              "      <td>1.743470</td>\n",
              "      <td>-1.690772</td>\n",
              "      <td>-0.426521</td>\n",
              "      <td>-0.844782</td>\n",
              "      <td>-2.020417</td>\n",
              "      <td>-0.014566</td>\n",
              "      <td>0.074449</td>\n",
              "      <td>0.519071</td>\n",
              "      <td>-1.839377</td>\n",
              "      <td>-0.288349</td>\n",
              "      <td>0.174483</td>\n",
              "      <td>-0.262960</td>\n",
              "      <td>-0.646553</td>\n",
              "      <td>-0.546059</td>\n",
              "    </tr>\n",
              "    <tr>\n",
              "      <th>2</th>\n",
              "      <td>0.133509</td>\n",
              "      <td>-0.708596</td>\n",
              "      <td>-0.231513</td>\n",
              "      <td>-0.190566</td>\n",
              "      <td>-0.543527</td>\n",
              "      <td>0.514882</td>\n",
              "      <td>0.604046</td>\n",
              "      <td>-2.404880</td>\n",
              "      <td>0.685946</td>\n",
              "      <td>-0.288349</td>\n",
              "      <td>1.264536</td>\n",
              "      <td>-0.262960</td>\n",
              "      <td>-0.953012</td>\n",
              "      <td>-0.691627</td>\n",
              "    </tr>\n",
              "    <tr>\n",
              "      <th>3</th>\n",
              "      <td>0.938490</td>\n",
              "      <td>0.173698</td>\n",
              "      <td>0.207256</td>\n",
              "      <td>0.136542</td>\n",
              "      <td>0.235942</td>\n",
              "      <td>-0.420797</td>\n",
              "      <td>-0.431076</td>\n",
              "      <td>-0.517266</td>\n",
              "      <td>0.462183</td>\n",
              "      <td>-0.035973</td>\n",
              "      <td>-0.053668</td>\n",
              "      <td>0.787855</td>\n",
              "      <td>-0.186865</td>\n",
              "      <td>-0.109354</td>\n",
              "    </tr>\n",
              "    <tr>\n",
              "      <th>4</th>\n",
              "      <td>0.938490</td>\n",
              "      <td>0.107110</td>\n",
              "      <td>0.207256</td>\n",
              "      <td>0.230001</td>\n",
              "      <td>0.235942</td>\n",
              "      <td>0.516807</td>\n",
              "      <td>0.218885</td>\n",
              "      <td>-0.517266</td>\n",
              "      <td>0.462183</td>\n",
              "      <td>-0.540725</td>\n",
              "      <td>0.275883</td>\n",
              "      <td>0.787855</td>\n",
              "      <td>-1.106241</td>\n",
              "      <td>-1.273900</td>\n",
              "    </tr>\n",
              "    <tr>\n",
              "      <th>...</th>\n",
              "      <td>...</td>\n",
              "      <td>...</td>\n",
              "      <td>...</td>\n",
              "      <td>...</td>\n",
              "      <td>...</td>\n",
              "      <td>...</td>\n",
              "      <td>...</td>\n",
              "      <td>...</td>\n",
              "      <td>...</td>\n",
              "      <td>...</td>\n",
              "      <td>...</td>\n",
              "      <td>...</td>\n",
              "      <td>...</td>\n",
              "      <td>...</td>\n",
              "    </tr>\n",
              "    <tr>\n",
              "      <th>200</th>\n",
              "      <td>-1.476452</td>\n",
              "      <td>1.721873</td>\n",
              "      <td>1.198549</td>\n",
              "      <td>1.398245</td>\n",
              "      <td>0.728239</td>\n",
              "      <td>0.763241</td>\n",
              "      <td>0.339248</td>\n",
              "      <td>1.666445</td>\n",
              "      <td>-0.336970</td>\n",
              "      <td>-0.162161</td>\n",
              "      <td>0.250533</td>\n",
              "      <td>0.577692</td>\n",
              "      <td>-0.340094</td>\n",
              "      <td>-0.400490</td>\n",
              "    </tr>\n",
              "    <tr>\n",
              "      <th>201</th>\n",
              "      <td>-1.476452</td>\n",
              "      <td>1.721873</td>\n",
              "      <td>1.198549</td>\n",
              "      <td>1.351515</td>\n",
              "      <td>0.728239</td>\n",
              "      <td>0.949992</td>\n",
              "      <td>0.339248</td>\n",
              "      <td>1.666445</td>\n",
              "      <td>-0.336970</td>\n",
              "      <td>-0.364062</td>\n",
              "      <td>1.416637</td>\n",
              "      <td>0.367529</td>\n",
              "      <td>-0.953012</td>\n",
              "      <td>-0.837195</td>\n",
              "    </tr>\n",
              "    <tr>\n",
              "      <th>202</th>\n",
              "      <td>-1.476452</td>\n",
              "      <td>1.721873</td>\n",
              "      <td>1.198549</td>\n",
              "      <td>1.398245</td>\n",
              "      <td>0.728239</td>\n",
              "      <td>0.878757</td>\n",
              "      <td>1.109571</td>\n",
              "      <td>0.926204</td>\n",
              "      <td>-1.232021</td>\n",
              "      <td>-0.338824</td>\n",
              "      <td>0.757535</td>\n",
              "      <td>0.787855</td>\n",
              "      <td>-1.106241</td>\n",
              "      <td>-1.128332</td>\n",
              "    </tr>\n",
              "    <tr>\n",
              "      <th>203</th>\n",
              "      <td>-1.476452</td>\n",
              "      <td>1.721873</td>\n",
              "      <td>1.198549</td>\n",
              "      <td>1.398245</td>\n",
              "      <td>0.728239</td>\n",
              "      <td>1.273437</td>\n",
              "      <td>0.435538</td>\n",
              "      <td>-1.183483</td>\n",
              "      <td>0.462183</td>\n",
              "      <td>3.244916</td>\n",
              "      <td>0.047732</td>\n",
              "      <td>-0.683286</td>\n",
              "      <td>0.119594</td>\n",
              "      <td>-0.546059</td>\n",
              "    </tr>\n",
              "    <tr>\n",
              "      <th>204</th>\n",
              "      <td>-1.476452</td>\n",
              "      <td>1.721873</td>\n",
              "      <td>1.198549</td>\n",
              "      <td>1.398245</td>\n",
              "      <td>0.728239</td>\n",
              "      <td>0.975021</td>\n",
              "      <td>0.339248</td>\n",
              "      <td>1.666445</td>\n",
              "      <td>-0.336970</td>\n",
              "      <td>-0.162161</td>\n",
              "      <td>0.250533</td>\n",
              "      <td>0.577692</td>\n",
              "      <td>-0.953012</td>\n",
              "      <td>-0.837195</td>\n",
              "    </tr>\n",
              "  </tbody>\n",
              "</table>\n",
              "<p>205 rows × 14 columns</p>\n",
              "</div>\n",
              "      <button class=\"colab-df-convert\" onclick=\"convertToInteractive('df-39e804a6-5043-4aca-b9ab-3bbf7a011a2b')\"\n",
              "              title=\"Convert this dataframe to an interactive table.\"\n",
              "              style=\"display:none;\">\n",
              "        \n",
              "  <svg xmlns=\"http://www.w3.org/2000/svg\" height=\"24px\"viewBox=\"0 0 24 24\"\n",
              "       width=\"24px\">\n",
              "    <path d=\"M0 0h24v24H0V0z\" fill=\"none\"/>\n",
              "    <path d=\"M18.56 5.44l.94 2.06.94-2.06 2.06-.94-2.06-.94-.94-2.06-.94 2.06-2.06.94zm-11 1L8.5 8.5l.94-2.06 2.06-.94-2.06-.94L8.5 2.5l-.94 2.06-2.06.94zm10 10l.94 2.06.94-2.06 2.06-.94-2.06-.94-.94-2.06-.94 2.06-2.06.94z\"/><path d=\"M17.41 7.96l-1.37-1.37c-.4-.4-.92-.59-1.43-.59-.52 0-1.04.2-1.43.59L10.3 9.45l-7.72 7.72c-.78.78-.78 2.05 0 2.83L4 21.41c.39.39.9.59 1.41.59.51 0 1.02-.2 1.41-.59l7.78-7.78 2.81-2.81c.8-.78.8-2.07 0-2.86zM5.41 20L4 18.59l7.72-7.72 1.47 1.35L5.41 20z\"/>\n",
              "  </svg>\n",
              "      </button>\n",
              "      \n",
              "  <style>\n",
              "    .colab-df-container {\n",
              "      display:flex;\n",
              "      flex-wrap:wrap;\n",
              "      gap: 12px;\n",
              "    }\n",
              "\n",
              "    .colab-df-convert {\n",
              "      background-color: #E8F0FE;\n",
              "      border: none;\n",
              "      border-radius: 50%;\n",
              "      cursor: pointer;\n",
              "      display: none;\n",
              "      fill: #1967D2;\n",
              "      height: 32px;\n",
              "      padding: 0 0 0 0;\n",
              "      width: 32px;\n",
              "    }\n",
              "\n",
              "    .colab-df-convert:hover {\n",
              "      background-color: #E2EBFA;\n",
              "      box-shadow: 0px 1px 2px rgba(60, 64, 67, 0.3), 0px 1px 3px 1px rgba(60, 64, 67, 0.15);\n",
              "      fill: #174EA6;\n",
              "    }\n",
              "\n",
              "    [theme=dark] .colab-df-convert {\n",
              "      background-color: #3B4455;\n",
              "      fill: #D2E3FC;\n",
              "    }\n",
              "\n",
              "    [theme=dark] .colab-df-convert:hover {\n",
              "      background-color: #434B5C;\n",
              "      box-shadow: 0px 1px 3px 1px rgba(0, 0, 0, 0.15);\n",
              "      filter: drop-shadow(0px 1px 2px rgba(0, 0, 0, 0.3));\n",
              "      fill: #FFFFFF;\n",
              "    }\n",
              "  </style>\n",
              "\n",
              "      <script>\n",
              "        const buttonEl =\n",
              "          document.querySelector('#df-39e804a6-5043-4aca-b9ab-3bbf7a011a2b button.colab-df-convert');\n",
              "        buttonEl.style.display =\n",
              "          google.colab.kernel.accessAllowed ? 'block' : 'none';\n",
              "\n",
              "        async function convertToInteractive(key) {\n",
              "          const element = document.querySelector('#df-39e804a6-5043-4aca-b9ab-3bbf7a011a2b');\n",
              "          const dataTable =\n",
              "            await google.colab.kernel.invokeFunction('convertToInteractive',\n",
              "                                                     [key], {});\n",
              "          if (!dataTable) return;\n",
              "\n",
              "          const docLinkHtml = 'Like what you see? Visit the ' +\n",
              "            '<a target=\"_blank\" href=https://colab.research.google.com/notebooks/data_table.ipynb>data table notebook</a>'\n",
              "            + ' to learn more about interactive tables.';\n",
              "          element.innerHTML = '';\n",
              "          dataTable['output_type'] = 'display_data';\n",
              "          await google.colab.output.renderOutput(dataTable, element);\n",
              "          const docLink = document.createElement('div');\n",
              "          docLink.innerHTML = docLinkHtml;\n",
              "          element.appendChild(docLink);\n",
              "        }\n",
              "      </script>\n",
              "    </div>\n",
              "  </div>\n",
              "  "
            ]
          },
          "metadata": {},
          "execution_count": 9
        }
      ]
    },
    {
      "cell_type": "markdown",
      "source": [
        "Split for test and train"
      ],
      "metadata": {
        "id": "OzrwVqjZIxlv"
      }
    },
    {
      "cell_type": "code",
      "source": [
        "from sklearn.model_selection import train_test_split\n",
        "x_train,x_test,y_train,y_test=train_test_split(X,Y,test_size=0.20,random_state=0)"
      ],
      "metadata": {
        "id": "R4GAGySBI7nD"
      },
      "execution_count": 11,
      "outputs": []
    },
    {
      "cell_type": "markdown",
      "source": [
        "Train using Rendom forest"
      ],
      "metadata": {
        "id": "R_U0Ty5CJmXh"
      }
    },
    {
      "cell_type": "code",
      "source": [
        "from sklearn.ensemble import RandomForestRegressor\n",
        "model=RandomForestRegressor()\n",
        "model.fit(x_train,y_train)"
      ],
      "metadata": {
        "colab": {
          "base_uri": "https://localhost:8080/"
        },
        "id": "TU_xoy0TJrgS",
        "outputId": "41b60450-e0bc-4774-f508-1e004e7dfa07"
      },
      "execution_count": 12,
      "outputs": [
        {
          "output_type": "execute_result",
          "data": {
            "text/plain": [
              "RandomForestRegressor()"
            ]
          },
          "metadata": {},
          "execution_count": 12
        }
      ]
    },
    {
      "cell_type": "code",
      "source": [
        "ypred=model.predict(x_test)\n",
        "print(ypred)"
      ],
      "metadata": {
        "colab": {
          "base_uri": "https://localhost:8080/"
        },
        "id": "Pd-hPIpyKUMN",
        "outputId": "eab7fc58-281d-40ec-d0cb-40afefdca9f1"
      },
      "execution_count": 13,
      "outputs": [
        {
          "output_type": "stream",
          "name": "stdout",
          "text": [
            "[ 6192.05       16717.07167    13569.93000333  5920.56\n",
            "  9882.70833333 14481.06916667  5896.31        7397.105\n",
            " 17969.01669     6735.1        19159.9        35552.82\n",
            " 12360.5875     14287.8975      6342.59       13485.41916667\n",
            " 12754.33916667 18708.27167     8790.69        6638.49333333\n",
            "  9864.05333333 14949.45166667 10784.99333333 14850.86916667\n",
            " 17198.72002     7416.89833333  7624.45       14456.98666667\n",
            "  8292.83        6821.72        8222.1        12976.54\n",
            " 15622.48667     9987.58666667  7109.68       32531.09857143\n",
            "  9398.66       17111.06        5934.41       36915.65\n",
            "  6209.28      ]\n"
          ]
        }
      ]
    },
    {
      "cell_type": "code",
      "source": [
        "from sklearn.metrics import r2_score\n",
        "r2score=r2_score(y_test,ypred)\n",
        "print(\"R2SCORE\",r2score*100)"
      ],
      "metadata": {
        "colab": {
          "base_uri": "https://localhost:8080/"
        },
        "id": "E-IfvmrQK1P2",
        "outputId": "7bda364a-9af0-4d0e-bc82-bbf9129b0bc7"
      },
      "execution_count": 14,
      "outputs": [
        {
          "output_type": "stream",
          "name": "stdout",
          "text": [
            "R2SCORE 89.96502600183412\n"
          ]
        }
      ]
    }
  ]
}